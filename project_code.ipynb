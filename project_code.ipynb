{
 "cells": [
  {
   "cell_type": "markdown",
   "metadata": {},
   "source": [
    "## THE BEHAVIOR OF THE FEAR NETWORK COULD BE AFFECTED BY THE INTENSITY OF THE STIMULUS AND THE INTEGRITY OF THE NETWORK"
   ]
  },
  {
   "cell_type": "code",
   "execution_count": null,
   "metadata": {},
   "outputs": [],
   "source": [
    "from netpyne import specs, sim"
   ]
  },
  {
   "cell_type": "markdown",
   "metadata": {},
   "source": [
    "Create type A, B and C neurons and interneurons with proportion (80:20) between neurons and interneurons and each neuron type with proportion (50:30:20) only to print the spikes and raster"
   ]
  },
  {
   "cell_type": "code",
   "execution_count": null,
   "metadata": {},
   "outputs": [],
   "source": [
    "tstop = 1000.0\n",
    "\n",
    "arq = './KimEtAl2013/LAcells_template.hoc'\n",
    "arq2 = './KimEtAl2013/interneuron_template.hoc'\n",
    "\n",
    "# Network parameters\n",
    "netParams = specs.NetParams() # object of class NetParams to store the network parameters\n",
    "netParams.sizeX = 200 # x-dimension (horizontal length) size in um\n",
    "netParams.sizeY = 1000 # y-dimension (vertical height or cortical depth) size in um\n",
    "netParams.sizeZ = 200 # z-dimension (horizontal length) size in um\n",
    "netParams.propVelocity = 100.0 # propagation velocity (um/ms)\n",
    "netParams.shape = 'cylindrer'\n",
    "#netParams.probLengthConst = 150.0 # length constant for conn probability (um)"
   ]
  },
  {
   "cell_type": "code",
   "execution_count": null,
   "metadata": {},
   "outputs": [],
   "source": [
    "## Population parameter\n",
    "\n",
    "n_neurons = 50 #total number of neurons\n",
    "netParams.popParams['LAddA'] = {'cellType': 'A', 'numCells': int((n_neurons*0.8)*0.5/2), \n",
    "                                    'cellModel': 'HH', 'yRange': [0.5,1]}\n",
    "netParams.popParams['LAddB'] = {'cellType': 'B', 'numCells': int((n_neurons*0.8)*0.3/2), \n",
    "                                    'cellModel': 'HH', 'yRange': [0.5,1]}\n",
    "netParams.popParams['LAddC'] = {'cellType': 'C', 'numCells': int((n_neurons*0.8)*0.2/2),\n",
    "                                    'cellModel': 'HH', 'yRange': [0.5,1]}\n",
    "\n",
    "netParams.popParams['LAdvA'] = {'cellType': 'A', 'numCells': int((n_neurons*0.8)*0.5/2), \n",
    "                                    'cellModel': 'HH', 'yRange': [0,0.5]}\n",
    "netParams.popParams['LAdvB'] = {'cellType': 'B', 'numCells': int((n_neurons*0.8)*0.3/2), \n",
    "                                    'cellModel': 'HH', 'yRange': [0,0.5]}\n",
    "netParams.popParams['LAdvC'] = {'cellType': 'C', 'numCells': int((n_neurons*0.8)*0.2/2), \n",
    "                                    'cellModel': 'HH', 'yRange': [0,0.5]}\n",
    "\n",
    "netParams.popParams['IN'] = {'cellType': 'Interneuron', 'numCells': int(n_neurons*0.2), \n",
    "                                 'cellModel': 'HH', 'yRange': [0,1]}"
   ]
  },
  {
   "cell_type": "markdown",
   "metadata": {},
   "source": [
    "Import amygdala cells A, B, C and interneurons of the model of Kim at al. (2013) and their synaptic mechanisms"
   ]
  },
  {
   "cell_type": "code",
   "execution_count": null,
   "metadata": {},
   "outputs": [],
   "source": [
    "### Import A\n",
    "netParams.importCellParams(label='LAddA_rule', conds={'cellType': 'A', 'cellModel': 'HH'}, \n",
    "                           fileName=arq, cellName='Cell_A', importSynMechs=True)\n",
    "### Import B\n",
    "netParams.importCellParams(label='LAddB_rule', conds={'cellType': 'B', 'cellModel': 'HH'}, \n",
    "                           fileName=arq, cellName='Cell_B', importSynMechs=True)\n",
    "## Import C\n",
    "netParams.importCellParams(label='LAddC_rule', conds={'cellType': 'C', 'cellModel': 'HH'}, \n",
    "                           fileName=arq, cellName='Cell_C', importSynMechs=True)\n",
    "\n",
    "### Import A\n",
    "netParams.importCellParams(label='LAdvA_rule', conds={'cellType': 'A', 'cellModel': 'HH'}, \n",
    "                           fileName=arq, cellName='Cell_A', importSynMechs=True)\n",
    "### Import B\n",
    "netParams.importCellParams(label='LAdvB_rule', conds={'cellType': 'B', 'cellModel': 'HH'}, \n",
    "                           fileName=arq, cellName='Cell_B', importSynMechs=True)\n",
    "## Import C\n",
    "netParams.importCellParams(label='LAdvC_rule', conds={'cellType': 'C', 'cellModel': 'HH'}, \n",
    "                           fileName=arq, cellName='Cell_C', importSynMechs=True)\n",
    "\n",
    "\n",
    "## Import interneurons\n",
    "netParams.importCellParams(label='IN_rule', conds={'cellType': 'Interneuron', 'cellModel': 'HH'}, \n",
    "                           fileName=arq2, cellName='InterneuronCell', importSynMechs=True)"
   ]
  },
  {
   "cell_type": "code",
   "execution_count": null,
   "metadata": {},
   "outputs": [],
   "source": [
    "## Synaptic mechanism\n",
    "netParams.synMechParams['AMPA'] = {'mod': 'Exp2Syn', 'tau1': 1.0, 'tau2': 5.0, 'e': 0} # soma NMDA synapse"
   ]
  },
  {
   "cell_type": "markdown",
   "metadata": {},
   "source": [
    "Define parameters of stimulation and connection with the background"
   ]
  },
  {
   "cell_type": "code",
   "execution_count": null,
   "metadata": {},
   "outputs": [],
   "source": [
    "netParams.stimSourceParams['inst'] = {'type': 'NetStim', 'rate': 200, 'noise': 0.5}\n",
    "\n",
    "netParams.stimTargetParams['inst->LAddA'] = {'source': 'bkg', 'conds': {'pop': 'LAddA'}, 'weight': 0.05, 'delay': 5,\n",
    "                                        'sec': 'soma'}\n",
    "netParams.stimTargetParams['inst->LAddB'] = {'source': 'bkg', 'conds': {'pop': 'LAddB'},'weight': 0.05,'delay': 5,\n",
    "                                        'sec': 'soma'}\n",
    "netParams.stimTargetParams['inst->LAddC'] = {'source': 'bkg', 'conds': {'pop': 'LAddC'}, 'weight': 0.05,'delay': 5,\n",
    "                                        'sec': 'soma'}\n",
    "\n",
    "netParams.stimTargetParams['inst->Interneuron'] = {'source': 'bkg', 'conds': {'pop': 'IN'}, \n",
    "                                                  'weight': 0.05,'delay': 5,'sec': 'soma'}\n",
    "\n",
    "\n",
    "\n",
    "\n",
    "netParams.stimSourceParams['bkg'] = {'type': 'NetStim', 'rate': 2, 'noise': 0.5,'dist':'poisson'}\n",
    "\n",
    "netParams.stimTargetParams['bkg->LAddA'] = {'source': 'bkg', 'conds': {'pop': 'LAddA'}, 'weight': 0.05, 'delay': 5,\n",
    "                                        'sec': 'soma'}\n",
    "netParams.stimTargetParams['bkg->LAddB'] = {'source': 'bkg', 'conds': {'pop': 'LAddB'},'weight': 0.05,'delay': 5,\n",
    "                                        'sec': 'soma'}\n",
    "netParams.stimTargetParams['bkg->LAddC'] = {'source': 'bkg', 'conds': {'pop': 'LAddC'}, 'weight': 0.05,'delay': 5,\n",
    "                                        'sec': 'soma'}\n",
    "netParams.stimTargetParams['bkg->LAdvA'] = {'source': 'bkg', 'conds': {'pop': 'LAdvA'}, 'weight': 0.05, 'delay': 5,\n",
    "                                        'sec': 'soma'}\n",
    "netParams.stimTargetParams['bkg->LAdvB'] = {'source': 'bkg', 'conds': {'pop': 'LAdvB'},'weight': 0.05,'delay': 5,\n",
    "                                        'sec': 'soma'}\n",
    "netParams.stimTargetParams['bkg->LAdvC'] = {'source': 'bkg', 'conds': {'pop': 'LAdvC'}, 'weight': 0.05,'delay': 5,\n",
    "                                        'sec': 'soma'}\n",
    "\n",
    "netParams.stimTargetParams['bkg->Interneuron'] = {'source': 'bkg', 'conds': {'pop': 'IN'},\n",
    "                                                  'weight': 0.05,'delay': 5,'sec': 'soma'}"
   ]
  },
  {
   "cell_type": "markdown",
   "metadata": {},
   "source": [
    "Connection with cells of the same type"
   ]
  },
  {
   "cell_type": "markdown",
   "metadata": {},
   "source": [
    "netParams.connParams['LAddA->LAddA'] = {'preConds': {'pop': 'LAddA'}, 'postConds': {'pop': 'LAddA'}, \n",
    "                    'probability': 0.5,  # max number of incoming conns to cell\t'\n",
    "                    'weight': 0.02,  # synaptic weight\n",
    "                    'delay': 5, # transmission delay (ms) '\n",
    "                    'sec': 'soma',\n",
    "                    'plasticity': {'mech': 'STDP', 'params': {'hebbwt': 0.01, 'antiwt':-0.01, 'wmax': 50,\n",
    "                                                              'RLon': 1, 'tauhebb': 10}}}\n",
    "netParams.connParams['LAddB->LAddB'] = {'preConds': {'pop': 'LAddB'}, 'postConds': {'pop': 'LAddB'}, \n",
    "                    'probability': 0.5,  # max number of incoming conns to cell\t'\n",
    "                    'weight': 0.02,  # synaptic weight\n",
    "                    'delay': 5, # transmission delay (ms) '\n",
    "                    'sec': 'soma',\n",
    "                    'plasticity': {'mech': 'STDP', 'params': {'hebbwt': 0.01, 'antiwt':-0.01, 'wmax': 50,\n",
    "                                                              'RLon': 1, 'tauhebb': 10}}}\n",
    "netParams.connParams['LAddC->LAddC'] = {'preConds': {'pop': 'LAddC'}, 'postConds': {'pop': 'LAddC'}, \n",
    "                    'probability': 0.5,  # max number of incoming conns to cell\t'\n",
    "                    'weight': 0.02,  # synaptic weight\n",
    "                    'delay': 5, # transmission delay (ms) '\n",
    "                    'sec': 'soma',\n",
    "                    'plasticity': {'mech': 'STDP', 'params': {'hebbwt': 0.01, 'antiwt':-0.01, 'wmax': 50,\n",
    "                                                              'RLon': 1, 'tauhebb': 10}}}\n",
    "#---------------------------------------------------------------------------------\n",
    "\n",
    "netParams.connParams['LAdvA->LAdvA'] = {'preConds': {'pop': 'LAdvA'}, 'postConds': {'pop': 'LAdvA'}, \n",
    "                    'probability': 0.5,  # max number of incoming conns to cell\t'\n",
    "                    'weight': 0.02,  # synaptic weight\n",
    "                    'delay': 5, # transmission delay (ms) '\n",
    "                    'sec': 'soma',\n",
    "                    'plasticity': {'mech': 'STDP', 'params': {'hebbwt': 0.01, 'antiwt':-0.01, 'wmax': 50,\n",
    "                                                              'RLon': 1, 'tauhebb': 10}}}\n",
    "netParams.connParams['LAdvB->LAdvB'] = {'preConds': {'pop': 'LAdvB'}, 'postConds': {'pop': 'LAdvB'}, \n",
    "                    'probability': 0.5,  # max number of incoming conns to cell\t'\n",
    "                    'weight': 0.02,  # synaptic weight\n",
    "                    'delay': 5, # transmission delay (ms) '\n",
    "                    'sec': 'soma',\n",
    "                    'plasticity': {'mech': 'STDP', 'params': {'hebbwt': 0.01, 'antiwt':-0.01, 'wmax': 50,\n",
    "                                                              'RLon': 1, 'tauhebb': 10}}}\n",
    "netParams.connParams['LAdvC->LAdvC'] = {'preConds': {'pop': 'LAdvC'}, 'postConds': {'pop': 'LAdvC'}, \n",
    "                    'probability': 0.5,  # max number of incoming conns to cell\t'\n",
    "                    'weight': 0.02,  # synaptic weight\n",
    "                    'delay': 5, # transmission delay (ms) '\n",
    "                    'sec': 'soma',\n",
    "                    'plasticity': {'mech': 'STDP', 'params': {'hebbwt': 0.01, 'antiwt':-0.01, 'wmax': 50,\n",
    "                                                              'RLon': 1, 'tauhebb': 10}}}"
   ]
  },
  {
   "cell_type": "code",
   "execution_count": null,
   "metadata": {},
   "outputs": [],
   "source": [
    "netParams.connParams['LAddA->LAddB'] = {'preConds': {'pop': 'LAddA'}, 'postConds': {'pop': 'LAddB'}, \n",
    "                    'probability': 0.5,  # max number of incoming conns to cell\t'\n",
    "                    'weight': 0.02,  # synaptic weight\n",
    "                    'delay': 5, # transmission delay (ms) '\n",
    "                    'sec': 'soma',\n",
    "                    'plasticity': {'mech': 'STDP', 'params': {'hebbwt': 0.01, 'antiwt':-0.01, 'wmax': 50,\n",
    "                                                              'RLon': 1, 'tauhebb': 10}}}\n",
    "netParams.connParams['LAddA->LAddC'] = {'preConds': {'pop': 'LAddA'}, 'postConds': {'pop': 'LAddC'}, \n",
    "                    'probability': 0.5,  # max number of incoming conns to cell\t'\n",
    "                    'weight': 0.02,  # synaptic weight\n",
    "                    'delay': 5, # transmission delay (ms) '\n",
    "                    'sec': 'soma',\n",
    "                    'plasticity': {'mech': 'STDP', 'params': {'hebbwt': 0.01, 'antiwt':-0.01, 'wmax': 50,\n",
    "                                                              'RLon': 1, 'tauhebb': 10}}}\n",
    "netParams.connParams['LAddB->LAddA'] = {'preConds': {'pop': 'LAddB'}, 'postConds': {'pop': 'LAddA'}, \n",
    "                    'probability': 0.5,  # max number of incoming conns to cell\t'\n",
    "                    'weight': 0.02,  # synaptic weight\n",
    "                    'delay': 5, # transmission delay (ms) '\n",
    "                    'sec': 'soma',\n",
    "                    'plasticity': {'mech': 'STDP', 'params': {'hebbwt': 0.01, 'antiwt':-0.01, 'wmax': 50,\n",
    "                                                              'RLon': 1, 'tauhebb': 10}}}\n",
    "netParams.connParams['LAddB->LAddC'] = {'preConds': {'pop': 'LAddB'}, 'postConds': {'pop': 'LAddC'}, \n",
    "                    'probability': 0.5,  # max number of incoming conns to cell\t'\n",
    "                    'weight': 0.02,  # synaptic weight\n",
    "                    'delay': 5, # transmission delay (ms) '\n",
    "                    'sec': 'soma',\n",
    "                    'plasticity': {'mech': 'STDP', 'params': {'hebbwt': 0.01, 'antiwt':-0.01, 'wmax': 50,\n",
    "                                                              'RLon': 1, 'tauhebb': 10}}}\n",
    "netParams.connParams['LAddC->LAddA'] = {'preConds': {'pop': 'LAddC'}, 'postConds': {'pop': 'LAddA'}, \n",
    "                    'probability': 0.5,  # max number of incoming conns to cell\t'\n",
    "                    'weight': 0.02,  # synaptic weight\n",
    "                    'delay': 5, # transmission delay (ms) '\n",
    "                    'sec': 'soma',\n",
    "                    'plasticity': {'mech': 'STDP', 'params': {'hebbwt': 0.01, 'antiwt':-0.01, 'wmax': 50,\n",
    "                                                              'RLon': 1, 'tauhebb': 10}}}\n",
    "netParams.connParams['LAddC->LAddB'] = {'preConds': {'pop': 'LAddC'}, 'postConds': {'pop': 'LAddB'}, \n",
    "                    'probability': 0.5,  # max number of incoming conns to cell\t'\n",
    "                    'weight': 0.02,  # synaptic weight\n",
    "                    'delay': 5, # transmission delay (ms) '\n",
    "                    'sec': 'soma',\n",
    "                    'plasticity': {'mech': 'STDP', 'params': {'hebbwt': 0.01, 'antiwt':-0.01, 'wmax': 50,\n",
    "                                                              'RLon': 1, 'tauhebb': 10}}}"
   ]
  },
  {
   "cell_type": "code",
   "execution_count": null,
   "metadata": {},
   "outputs": [],
   "source": [
    "netParams.connParams['LAdvA->LAdvB'] = {'preConds': {'pop': 'LAdvA'}, 'postConds': {'pop': 'LAdvB'}, \n",
    "                    'probability': 0.5,  # max number of incoming conns to cell\t'\n",
    "                    'weight': 0.002,  # synaptic weight\n",
    "                    'delay': 5, # transmission delay (ms) '\n",
    "                    'sec': 'soma',\n",
    "                    'plasticity': {'mech': 'STDP', 'params': {'hebbwt': 0.01, 'antiwt':-0.01, 'wmax': 50,\n",
    "                                                              'RLon': 1, 'tauhebb': 10}}}\n",
    "netParams.connParams['LAdvA->LAdvC'] = {'preConds': {'pop': 'LAdvA'}, 'postConds': {'pop': 'LAdvC'}, \n",
    "                    'probability': 0.5,  # max number of incoming conns to cell\t'\n",
    "                    'weight': 0.002,  # synaptic weight\n",
    "                    'delay': 5, # transmission delay (ms) '\n",
    "                    'sec': 'soma',\n",
    "                    'plasticity': {'mech': 'STDP', 'params': {'hebbwt': 0.01, 'antiwt':-0.01, 'wmax': 50,\n",
    "                                                              'RLon': 1, 'tauhebb': 10}}}\n",
    "netParams.connParams['LAdvB->LAdvA'] = {'preConds': {'pop': 'LAdvB'}, 'postConds': {'pop': 'LAddv'}, \n",
    "                    'probability': 0.5,  # max number of incoming conns to cell\t'\n",
    "                    'weight': 0.002,  # synaptic weight\n",
    "                    'delay': 5, # transmission delay (ms) '\n",
    "                    'sec': 'soma',\n",
    "                    'plasticity': {'mech': 'STDP', 'params': {'hebbwt': 0.01, 'antiwt':-0.01, 'wmax': 50,\n",
    "                                                              'RLon': 1, 'tauhebb': 10}}}\n",
    "netParams.connParams['LAdvB->LAdvC'] = {'preConds': {'pop': 'LAdvB'}, 'postConds': {'pop': 'LAdvC'}, \n",
    "                    'probability': 0.5,  # max number of incoming conns to cell\t'\n",
    "                    'weight': 0.002,  # synaptic weight\n",
    "                    'delay': 5, # transmission delay (ms) '\n",
    "                    'sec': 'soma',\n",
    "                    'plasticity': {'mech': 'STDP', 'params': {'hebbwt': 0.01, 'antiwt':-0.01, 'wmax': 50,\n",
    "                                                              'RLon': 1, 'tauhebb': 10}}}\n",
    "netParams.connParams['LAdvC->LAdvA'] = {'preConds': {'pop': 'LAdvC'}, 'postConds': {'pop': 'LAdvA'}, \n",
    "                    'probability': 0.5,  # max number of incoming conns to cell\t'\n",
    "                    'weight': 0.002,  # synaptic weight\n",
    "                    'delay': 5, # transmission delay (ms) '\n",
    "                    'sec': 'soma',\n",
    "                    'plasticity': {'mech': 'STDP', 'params': {'hebbwt': 0.01, 'antiwt':-0.01, 'wmax': 50,\n",
    "                                                              'RLon': 1, 'tauhebb': 10}}}\n",
    "netParams.connParams['LAdvC->LAdvB'] = {'preConds': {'pop': 'LAdvC'}, 'postConds': {'pop': 'LAdvB'}, \n",
    "                    'probability': 0.5,  # max number of incoming conns to cell\t'\n",
    "                    'weight': 0.002,  # synaptic weight\n",
    "                    'delay': 5, # transmission delay (ms) '\n",
    "                    'sec': 'soma',\n",
    "                    'plasticity': {'mech': 'STDP', 'params': {'hebbwt': 0.01, 'antiwt':-0.01, 'wmax': 50,\n",
    "                                                              'RLon': 1, 'tauhebb': 10}}}"
   ]
  },
  {
   "cell_type": "markdown",
   "metadata": {},
   "source": [
    "Connection with the interneurons"
   ]
  },
  {
   "cell_type": "code",
   "execution_count": null,
   "metadata": {},
   "outputs": [],
   "source": [
    "netParams.connParams['Interneuron->LAddA'] = {'preConds': {'pop': 'IN'}, 'postConds': {'pop': 'LAddA'}, \n",
    "                    'probability': 0.5,  # max number of incoming conns to cell\t'\n",
    "                    'weight': 0.002,  # synaptic weight\n",
    "                    'delay': 5, # transmission delay (ms) '\n",
    "                    'sec': 'soma',\n",
    "                    'plasticity': {'mech': 'STDP', 'params': {'hebbwt': 0.01, 'antiwt':-0.01, 'wmax': 50,\n",
    "                                                              'RLon': 1, 'tauhebb': 10}}}\n",
    "netParams.connParams['Interneuron->LAddB'] = {'preConds': {'pop': 'IN'}, 'postConds': {'pop': 'LAddB'}, \n",
    "                    'probability': 0.5,  # max number of incoming conns to cell\t'\n",
    "                    'weight': 0.002,  # synaptic weight\n",
    "                    'delay': 5, # transmission delay (ms) '\n",
    "                    'sec': 'soma',\n",
    "                    'plasticity': {'mech': 'STDP', 'params': {'hebbwt': 0.01, 'antiwt':-0.01, 'wmax': 50,\n",
    "                                                              'RLon': 1, 'tauhebb': 10}}}\n",
    "netParams.connParams['Interneuron->LAddC'] = {'preConds': {'pop': 'IN'}, 'postConds': {'pop': 'LAddC'}, \n",
    "                    'probability': 0.5,  # max number of incoming conns to cell\t'\n",
    "                    'weight': 0.002,  # synaptic weight\n",
    "                    'delay': 5, # transmission delay (ms) '\n",
    "                    'sec': 'soma',\n",
    "                    'plasticity': {'mech': 'STDP', 'params': {'hebbwt': 0.01, 'antiwt':-0.01, 'wmax': 50,\n",
    "                                                              'RLon': 1, 'tauhebb': 10}}}\n",
    "\n",
    "\n",
    "\n",
    "\n",
    "netParams.connParams['LAddA->Interneuron'] = {'preConds': {'pop': 'LAddA'}, 'postConds': {'pop': 'IN'}, \n",
    "                    'probability': 0.5,  # max number of incoming conns to cell\t'\n",
    "                    'weight': 0.002,  # synaptic weight\n",
    "                    'delay': 5, # transmission delay (ms) '\n",
    "                    'sec': 'soma',\n",
    "                    'plasticity': {'mech': 'STDP', 'params': {'hebbwt': 0.01, 'antiwt':-0.01, 'wmax': 50,\n",
    "                                                              'RLon': 1, 'tauhebb': 10}}}\n",
    "netParams.connParams['LAddB->Interneuron'] = {'preConds': {'pop': 'LAddB'}, 'postConds': {'pop': 'IN'}, \n",
    "                    'probability': 0.5,  # max number of incoming conns to cell\t'\n",
    "                    'weight': 0.002,  # synaptic weight\n",
    "                    'delay': 5, # transmission delay (ms) '\n",
    "                    'sec': 'soma',\n",
    "                    'plasticity': {'mech': 'STDP', 'params': {'hebbwt': 0.01, 'antiwt':-0.01, 'wmax': 50,\n",
    "                                                              'RLon': 1, 'tauhebb': 10}}}\n",
    "netParams.connParams['LAddC->Interneuron'] = {'preConds': {'pop': 'LAddC'}, 'postConds': {'pop': 'IN'}, \n",
    "                    'probability': 0.5,  # max number of incoming conns to cell\t'\n",
    "                    'weight': 0.002,  # synaptic weight\n",
    "                    'delay': 5, # transmission delay (ms) '\n",
    "                    'sec': 'soma',\n",
    "                    'plasticity': {'mech': 'STDP', 'params': {'hebbwt': 0.01, 'antiwt':-0.01, 'wmax': 50,\n",
    "                                                              'RLon': 1, 'tauhebb': 10}}}"
   ]
  },
  {
   "cell_type": "code",
   "execution_count": null,
   "metadata": {},
   "outputs": [],
   "source": [
    "netParams.connParams['Interneuron->LAdvA'] = {'preConds': {'pop': 'IN'}, 'postConds': {'pop': 'LAdvA'}, \n",
    "                    'probability': 0.5,  # max number of incoming conns to cell\t'\n",
    "                    'weight': 0.002,  # synaptic weight\n",
    "                    'delay': 5, # transmission delay (ms) '\n",
    "                    'sec': 'soma',\n",
    "                    'plasticity': {'mech': 'STDP', 'params': {'hebbwt': 0.01, 'antiwt':-0.01, 'wmax': 50,\n",
    "                                                              'RLon': 1, 'tauhebb': 10}}}\n",
    "netParams.connParams['Interneuron->LAdvB'] = {'preConds': {'pop': 'IN'}, 'postConds': {'pop': 'LAdvB'}, \n",
    "                    'probability': 0.5,  # max number of incoming conns to cell\t'\n",
    "                    'weight': 0.002,  # synaptic weight\n",
    "                    'delay': 5, # transmission delay (ms) '\n",
    "                    'sec': 'soma',\n",
    "                    'plasticity': {'mech': 'STDP', 'params': {'hebbwt': 0.01, 'antiwt':-0.01, 'wmax': 50,\n",
    "                                                              'RLon': 1, 'tauhebb': 10}}}\n",
    "netParams.connParams['Interneuron->LAdvC'] = {'preConds': {'pop': 'IN'}, 'postConds': {'pop': 'LAdvC'}, \n",
    "                    'probability': 0.5,  # max number of incoming conns to cell\t'\n",
    "                    'weight': 0.002,  # synaptic weight\n",
    "                    'delay': 5, # transmission delay (ms) '\n",
    "                    'sec': 'soma',\n",
    "                    'plasticity': {'mech': 'STDP', 'params': {'hebbwt': 0.01, 'antiwt':-0.01, 'wmax': 50,\n",
    "                                                              'RLon': 1, 'tauhebb': 10}}}\n",
    "\n",
    "\n",
    "\n",
    "\n",
    "netParams.connParams['LAdvA->Interneuron'] = {'preConds': {'pop': 'LAdvA'}, 'postConds': {'pop': 'IN'}, \n",
    "                    'probability': 0.5,  # max number of incoming conns to cell\t'\n",
    "                    'weight': 0.002,  # synaptic weight\n",
    "                    'delay': 5, # transmission delay (ms) '\n",
    "                    'sec': 'soma',\n",
    "                    'plasticity': {'mech': 'STDP', 'params': {'hebbwt': 0.01, 'antiwt':-0.01, 'wmax': 50,\n",
    "                                                              'RLon': 1, 'tauhebb': 10}}}\n",
    "netParams.connParams['LAdvB->Interneuron'] = {'preConds': {'pop': 'LAdvB'}, 'postConds': {'pop': 'IN'}, \n",
    "                    'probability': 0.5,  # max number of incoming conns to cell\t'\n",
    "                    'weight': 0.002,  # synaptic weight\n",
    "                    'delay': 5, # transmission delay (ms) '\n",
    "                    'sec': 'soma',\n",
    "                    'plasticity': {'mech': 'STDP', 'params': {'hebbwt': 0.01, 'antiwt':-0.01, 'wmax': 50,\n",
    "                                                              'RLon': 1, 'tauhebb': 10}}}\n",
    "netParams.connParams['LAdvC->Interneuron'] = {'preConds': {'pop': 'LAdvC'}, 'postConds': {'pop': 'IN'}, \n",
    "                    'probability': 0.5,  # max number of incoming conns to cell\t'\n",
    "                    'weight': 0.002,  # synaptic weight\n",
    "                    'delay': 5, # transmission delay (ms) '\n",
    "                    'sec': 'soma',\n",
    "                    'plasticity': {'mech': 'STDP', 'params': {'hebbwt': 0.01, 'antiwt':-0.01, 'wmax': 50,\n",
    "                                                              'RLon': 1, 'tauhebb': 10}}}"
   ]
  },
  {
   "cell_type": "code",
   "execution_count": null,
   "metadata": {},
   "outputs": [],
   "source": [
    "netParams.connParams['Interneuron->Interneuron'] = {'preConds': {'pop': 'IN'}, 'postConds': {'pop': 'IN'}, \n",
    "                    'probability': 0.5,  # max number of incoming conns to cell\t'\n",
    "                    'weight': 0.002,  # synaptic weight\n",
    "                    'delay': 5, # transmission delay (ms) '\n",
    "                    'sec': 'soma',\n",
    "                    'plasticity': {'mech': 'STDP', 'params': {'hebbwt': 0.01, 'antiwt':-0.01, 'wmax': 50,\n",
    "                                                              'RLon': 1, 'tauhebb': 10}}}"
   ]
  },
  {
   "cell_type": "code",
   "execution_count": null,
   "metadata": {},
   "outputs": [],
   "source": [
    "# Simulation options\n",
    "simConfig = specs.SimConfig() # object of class SimConfig to store simulation configuration\n",
    "simConfig.duration = tstop#1*1e3 # Duration of the simulation, in ms\n",
    "simConfig.dt = 0.025  # Internal integration timestep to use\n",
    "simConfig.verbose = 0\n",
    "simConfig.hParams = {'celsius':31}"
   ]
  },
  {
   "cell_type": "code",
   "execution_count": null,
   "metadata": {},
   "outputs": [],
   "source": [
    "# Show detailed messages\n",
    "simConfig.recordTraces = {'V_soma':{'sec':'soma','loc':0.5,'var':'v'}}\n",
    "# Dict with traces to record\n",
    "simConfig.recordStep = 0.01\n",
    "# Step size in ms to save data (eg. V traces, LFP, etc)\n",
    "simConfig.filename = 'model_output'\n",
    "# Set file output names\n",
    "simConfig.saveJson = True"
   ]
  },
  {
   "cell_type": "markdown",
   "metadata": {},
   "source": [
    "Plot the spikes and the raster plot"
   ]
  },
  {
   "cell_type": "code",
   "execution_count": null,
   "metadata": {},
   "outputs": [],
   "source": [
    "# Save params, network and sim output to pickle file\n",
    "simConfig.analysis['plotRaster'] = {'orderInverse': True, 'saveFig': 'tut_import_raster.png'}\n",
    "# Plot a raster\n",
    "simConfig.analysis['plotTraces'] = {'include': [0,10,13,15]}\n",
    "simConfig.analysis['plot2Dnet'] = True \n",
    "simConfig.analysis['plotConn'] = True"
   ]
  },
  {
   "cell_type": "code",
   "execution_count": null,
   "metadata": {},
   "outputs": [],
   "source": [
    "# Plot recorded traces for this list of cells\n",
    "# Create network and run simulation\n",
    "sim.createSimulateAnalyze(netParams = netParams, simConfig = simConfig)"
   ]
  },
  {
   "cell_type": "code",
   "execution_count": null,
   "metadata": {},
   "outputs": [],
   "source": []
  },
  {
   "cell_type": "code",
   "execution_count": null,
   "metadata": {},
   "outputs": [],
   "source": []
  },
  {
   "cell_type": "code",
   "execution_count": null,
   "metadata": {},
   "outputs": [],
   "source": []
  },
  {
   "cell_type": "code",
   "execution_count": null,
   "metadata": {},
   "outputs": [],
   "source": []
  }
 ],
 "metadata": {
  "kernelspec": {
   "display_name": "Python 3",
   "language": "python",
   "name": "python3"
  },
  "language_info": {
   "codemirror_mode": {
    "name": "ipython",
    "version": 3
   },
   "file_extension": ".py",
   "mimetype": "text/x-python",
   "name": "python",
   "nbconvert_exporter": "python",
   "pygments_lexer": "ipython3",
   "version": "3.7.4"
  }
 },
 "nbformat": 4,
 "nbformat_minor": 2
}
