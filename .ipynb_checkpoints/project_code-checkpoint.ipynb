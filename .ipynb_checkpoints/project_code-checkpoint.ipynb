{
 "cells": [
  {
   "cell_type": "markdown",
   "metadata": {},
   "source": [
    "## THE BEHAVIOR OF THE FEAR NETWORK COULD BE AFFECTED BY THE INTENSITY OF THE STIMULUS AND THE INTEGRITY OF THE NETWORK"
   ]
  },
  {
   "cell_type": "code",
   "execution_count": 1,
   "metadata": {},
   "outputs": [],
   "source": [
    "from netpyne import specs, sim"
   ]
  },
  {
   "cell_type": "markdown",
   "metadata": {},
   "source": [
    "Create type A, B and C neurons and interneurons with proportion (80:20) between neurons and interneurons and each neuron type with proportion (50:30:20) only to print the spikes and raster"
   ]
  },
  {
   "cell_type": "code",
   "execution_count": 2,
   "metadata": {},
   "outputs": [],
   "source": [
    "tstop = 1000.0\n",
    "\n",
    "arq = './KimEtAl2013/LAcells_template.hoc'\n",
    "arq2 = './KimEtAl2013/interneuron_template.hoc'\n",
    "\n",
    "# Network parameters\n",
    "netParams = specs.NetParams() # object of class NetParams to store the network parameters\n",
    "netParams.sizeX = 200 # x-dimension (horizontal length) size in um\n",
    "netParams.sizeY = 1000 # y-dimension (vertical height or cortical depth) size in um\n",
    "netParams.sizeZ = 200 # z-dimension (horizontal length) size in um\n",
    "netParams.propVelocity = 100.0 # propagation velocity (um/ms)\n",
    "netParams.shape = 'cylindrer'\n",
    "#netParams.probLengthConst = 150.0 # length constant for conn probability (um)"
   ]
  },
  {
   "cell_type": "code",
   "execution_count": 3,
   "metadata": {},
   "outputs": [],
   "source": [
    "## Population parameter\n",
    "\n",
    "n_neurons = 100 #total number of neurons\n",
    "netParams.popParams['LAddA'] = {'cellType': 'A', 'numCells': int((n_neurons*0.8)*0.5/2), \n",
    "                                    'cellModel': 'HH', 'yRange': [0.5,1]}\n",
    "netParams.popParams['LAddB'] = {'cellType': 'B', 'numCells': int((n_neurons*0.8)*0.3/2), \n",
    "                                    'cellModel': 'HH', 'yRange': [0.5,1]}\n",
    "netParams.popParams['LAddC'] = {'cellType': 'C', 'numCells': int((n_neurons*0.8)*0.2/2),\n",
    "                                    'cellModel': 'HH', 'yRange': [0.5,1]}\n",
    "\n",
    "netParams.popParams['LAdvA'] = {'cellType': 'A', 'numCells': int((n_neurons*0.8)*0.5/2), \n",
    "                                    'cellModel': 'HH', 'yRange': [0,0.5]}\n",
    "netParams.popParams['LAdvB'] = {'cellType': 'B', 'numCells': int((n_neurons*0.8)*0.3/2), \n",
    "                                    'cellModel': 'HH', 'yRange': [0,0.5]}\n",
    "netParams.popParams['LAdvC'] = {'cellType': 'C', 'numCells': int((n_neurons*0.8)*0.2/2), \n",
    "                                    'cellModel': 'HH', 'yRange': [0,0.5]}\n",
    "\n",
    "netParams.popParams['IN'] = {'cellType': 'Interneuron', 'numCells': int(n_neurons*0.2), \n",
    "                                 'cellModel': 'HH', 'yRange': [0,1]}"
   ]
  },
  {
   "cell_type": "markdown",
   "metadata": {},
   "source": [
    "Import amygdala cells A, B, C and interneurons of the model of Kim at al. (2013) and their synaptic mechanisms"
   ]
  },
  {
   "cell_type": "code",
   "execution_count": 4,
   "metadata": {},
   "outputs": [
    {
     "data": {
      "text/plain": [
       "{conds: {cellType: 'Interneuron', cellModel: 'HH'}, secs: {soma: {geom: {L: 15.0, nseg: 1, diam: 15.0, Ra: 3375.0, cm: 1.0}, topol: {}, mechs: {kdrinter: {gkdrbar: 0.008}, leakinter: {glbar_inter: 5e-05, el: -70.0}, nainter: {gnabar: 0.035}}, ions: {k: {e: -80.0, i: 54.4, o: 2.5}, na: {e: 45.0, i: 10.0, o: 140.0}}}, dend: {geom: {L: 150.0, nseg: 1, diam: 10.0, Ra: 150.0, cm: 1.0}, topol: {parentSec: 'soma', parentX: 1.0, childX: 0.0}, mechs: {kdrinter: {gkdrbar: 0.003}, leakinter: {glbar_inter: 5e-05, el: -70.0}, nainter: {gnabar: 0.01}}, ions: {ca: {e: 120.0, i: 5e-05, o: 2.0}, k: {e: -80.0, i: 54.4, o: 2.5}, na: {e: 45.0, i: 10.0, o: 140.0}}}}, secLists: {}, globals: {}, _repr_mimebundle_: {}}"
      ]
     },
     "execution_count": 4,
     "metadata": {},
     "output_type": "execute_result"
    }
   ],
   "source": [
    "### Import A\n",
    "netParams.importCellParams(label='LAddA_rule', conds={'cellType': 'A', 'cellModel': 'HH'}, \n",
    "                           fileName=arq, cellName='Cell_A', importSynMechs=True)\n",
    "### Import B\n",
    "netParams.importCellParams(label='LAddB_rule', conds={'cellType': 'B', 'cellModel': 'HH'}, \n",
    "                           fileName=arq, cellName='Cell_B', importSynMechs=True)\n",
    "## Import C\n",
    "netParams.importCellParams(label='LAddC_rule', conds={'cellType': 'C', 'cellModel': 'HH'}, \n",
    "                           fileName=arq, cellName='Cell_C', importSynMechs=True)\n",
    "\n",
    "### Import A\n",
    "netParams.importCellParams(label='LAdvA_rule', conds={'cellType': 'A', 'cellModel': 'HH'}, \n",
    "                           fileName=arq, cellName='Cell_A', importSynMechs=True)\n",
    "### Import B\n",
    "netParams.importCellParams(label='LAdvB_rule', conds={'cellType': 'B', 'cellModel': 'HH'}, \n",
    "                           fileName=arq, cellName='Cell_B', importSynMechs=True)\n",
    "## Import C\n",
    "netParams.importCellParams(label='LAdvC_rule', conds={'cellType': 'C', 'cellModel': 'HH'}, \n",
    "                           fileName=arq, cellName='Cell_C', importSynMechs=True)\n",
    "\n",
    "\n",
    "## Import interneurons\n",
    "netParams.importCellParams(label='IN_rule', conds={'cellType': 'Interneuron', 'cellModel': 'HH'}, \n",
    "                           fileName=arq2, cellName='InterneuronCell', importSynMechs=True)"
   ]
  },
  {
   "cell_type": "code",
   "execution_count": 5,
   "metadata": {},
   "outputs": [],
   "source": [
    "## Synaptic mechanism\n",
    "netParams.synMechParams['AMPA'] = {'mod': 'Exp2Syn', 'tau1': 1.0, 'tau2': 5.0, 'e': 0} # soma NMDA synapse"
   ]
  },
  {
   "cell_type": "markdown",
   "metadata": {},
   "source": [
    "Definition of the stimuli: Shock and Tone. It will only be applied in the dorsal part of the LA and in the interneurons"
   ]
  },
  {
   "cell_type": "code",
   "execution_count": 6,
   "metadata": {},
   "outputs": [],
   "source": [
    "# pulses = [{'start': 50, 'end': 100,  'noise': 0.5},\n",
    "#         {'start': 300, 'end': 350, 'noise': 0.5}]\n",
    "\n",
    "# netParams.stimSourceParams['shock'] = {'type': 'NetStim','pulses': pulses, 'rate':200}\n",
    "\n",
    "# netParams.stimTargetParams['shock->LAddA'] = {'source': 'shock', 'conds': {'pop': 'LAddA'},'weight': 0.01,\n",
    "#                                         'sec': 'dend'}\n",
    "# netParams.stimTargetParams['shock->LAddB'] = {'source': 'shock', 'conds': {'pop': 'LAddB'}, 'weight': 0.01,\n",
    "#                                         'sec': 'dend'}\n",
    "# netParams.stimTargetParams['shock->LAddC'] = {'source': 'shock', 'conds': {'pop': 'LAddC'},'weight': 0.01,\n",
    "#                                         'sec': 'dend'}\n",
    "\n",
    "# netParams.stimTargetParams['shock->Interneuron'] = {'source': 'shock', 'conds': {'pop': 'IN'}, 'weight': 0.1,\n",
    "#                                                   'sec': 'dend'}\n",
    "\n",
    "# pulses = [{'start': 10, 'end': 110, 'rate': 200, 'noise': 0.5},\n",
    "#         {'start': 250, 'end': 350, 'rate': 200, 'noise': 0.5}]\n",
    "\n",
    "# netParams.stimSourceParams['tone'] = {'type': 'NetStim','pulses': pulses}\n",
    "\n",
    "# netParams.stimTargetParams['tone->LAddA'] = {'source': 'tone', 'conds': {'pop': 'LAddA'}, 'delay': 5,\n",
    "#                                         'sec': 'dend'}\n",
    "# netParams.stimTargetParams['tone->LAddB'] = {'source': 'tone', 'conds': {'pop': 'LAddB'},'delay': 5,\n",
    "#                                         'sec': 'dend'}\n",
    "# netParams.stimTargetParams['tone->LAddC'] = {'source': 'tone', 'conds': {'pop': 'LAddC'}, 'delay': 5,\n",
    "#                                         'sec': 'dend'}\n",
    "\n",
    "# netParams.stimTargetParams['tone->Interneuron'] = {'source': 'tone', 'conds': {'pop': 'IN'}, \n",
    "#                                                   'delay': 5,'sec': 'dend'}"
   ]
  },
  {
   "cell_type": "markdown",
   "metadata": {},
   "source": [
    "Define parameters of stimulation and connection with the background"
   ]
  },
  {
   "cell_type": "code",
   "execution_count": 7,
   "metadata": {},
   "outputs": [],
   "source": [
    "netParams.stimSourceParams['bkg'] = {'type': 'NetStim', 'rate': 10, 'noise': 1,'dist':'poisson'}\n",
    "\n",
    "netParams.stimTargetParams['bkg->LAddA'] = {'source': 'bkg', 'conds': {'pop': 'LAddA'}, 'weight': 0.05, 'delay': 5,\n",
    "                                        'sec': 'soma'}\n",
    "netParams.stimTargetParams['bkg->LAddB'] = {'source': 'bkg', 'conds': {'pop': 'LAddB'},'weight': 0.05,'delay': 5,\n",
    "                                        'sec': 'soma'}\n",
    "netParams.stimTargetParams['bkg->LAddC'] = {'source': 'bkg', 'conds': {'pop': 'LAddC'}, 'weight': 0.05,'delay': 5,\n",
    "                                        'sec': 'soma'}\n",
    "netParams.stimTargetParams['bkg->LAdvA'] = {'source': 'bkg', 'conds': {'pop': 'LAdvA'}, 'weight': 0.05, 'delay': 5,\n",
    "                                        'sec': 'soma'}\n",
    "netParams.stimTargetParams['bkg->LAdvB'] = {'source': 'bkg', 'conds': {'pop': 'LAdvB'},'weight': 0.05,'delay': 5,\n",
    "                                        'sec': 'soma'}\n",
    "netParams.stimTargetParams['bkg->LAdvC'] = {'source': 'bkg', 'conds': {'pop': 'LAdvC'}, 'weight': 0.05,'delay': 5,\n",
    "                                        'sec': 'soma'}\n",
    "\n",
    "netParams.stimTargetParams['bkg->Interneuron'] = {'source': 'bkg', 'conds': {'pop': 'IN'},'weight': 0.05,\n",
    "                                                  'delay': 5,'sec': 'soma'}"
   ]
  },
  {
   "cell_type": "markdown",
   "metadata": {},
   "source": [
    "Connection between population"
   ]
  },
  {
   "cell_type": "code",
   "execution_count": 8,
   "metadata": {},
   "outputs": [],
   "source": [
    "w_pp = 0.05\n",
    "w_ip = 0.05\n",
    "w_pi = 0.05\n",
    "w_ii = 0.05\n",
    "\n",
    "sec = 'dend'\n",
    "#plast = {'mech': 'STDP', 'params': {'hebbwt': 0.01, 'antiwt':-0.01, 'wmax': 50, 'RLon': 1, 'tauhebb': 10}}\n",
    "plast = ''\n",
    "\n",
    "netParams.connParams['LAddA->all_d'] = {'preConds': {'pop': 'LAddA'}, 'postConds': {'pop': ['LAddB','LAddC']}, \n",
    "                    'probability': 0.2,  # max number of incoming conns to cell\t'\n",
    "                    'weight': w_pp,  # synaptic weight\n",
    "                    'delay': 5, # transmission delay (ms) '\n",
    "                    'sec': sec,\n",
    "                    'plasticity': plast}\n",
    "\n",
    "netParams.connParams['LAddB->all_d'] = {'preConds': {'pop': 'LAddB'}, 'postConds': {'pop': ['LAddA','LAddC']}, \n",
    "                    'probability': 0.2,  # max number of incoming conns to cell\t'\n",
    "                    'weight': w_pp,  # synaptic weight\n",
    "                    'delay': 5, # transmission delay (ms) '\n",
    "                    'sec': sec,\n",
    "                    'plasticity': plast}\n",
    "\n",
    "netParams.connParams['LAddC->all_d'] = {'preConds': {'pop': 'LAddC'}, 'postConds': {'pop': ['LAddB','LAddA']}, \n",
    "                    'probability': 0.2,  # max number of incoming conns to cell\t'\n",
    "                    'weight': w_pp,  # synaptic weight\n",
    "                    'delay': 5, # transmission delay (ms) '\n",
    "                    'sec': sec,\n",
    "                    'plasticity': plast}"
   ]
  },
  {
   "cell_type": "code",
   "execution_count": 9,
   "metadata": {},
   "outputs": [],
   "source": [
    "netParams.connParams['LAdvA->all_v'] = {'preConds': {'pop': 'LAdvA'}, 'postConds': {'pop': ['LAdvB','LAdvC']}, \n",
    "                    'probability': 0.2,  # max number of incoming conns to cell\t'\n",
    "                    'weight': w_pp,  # synaptic weight\n",
    "                    'delay': 5, # transmission delay (ms) '\n",
    "                    'sec': sec,\n",
    "                    'plasticity': plast}\n",
    "\n",
    "netParams.connParams['LAdvB->all_v'] = {'preConds': {'pop': 'LAdvB'}, 'postConds': {'pop': ['LAdvA','LAdvC']}, \n",
    "                    'probability': 0.2,  # max number of incoming conns to cell\t'\n",
    "                    'weight': w_pp,  # synaptic weight\n",
    "                    'delay': 5, # transmission delay (ms) '\n",
    "                    'sec': sec,\n",
    "                    'plasticity': plast}\n",
    "\n",
    "netParams.connParams['LAdvC->all_v'] = {'preConds': {'pop': 'LAdvC'}, 'postConds': {'pop': ['LAdvB','LAdvA']}, \n",
    "                    'probability': 0.2,  # max number of incoming conns to cell\t'\n",
    "                    'weight': w_pp,  # synaptic weight\n",
    "                    'delay': 5, # transmission delay (ms) '\n",
    "                    'sec': sec,\n",
    "                    'plasticity': plast}"
   ]
  },
  {
   "cell_type": "markdown",
   "metadata": {},
   "source": [
    "Connection to the interneurons"
   ]
  },
  {
   "cell_type": "code",
   "execution_count": 10,
   "metadata": {},
   "outputs": [],
   "source": [
    "netParams.connParams['Interneuron->all'] = {'preConds': {'pop': 'IN'}, 'postConds': \n",
    "                                            {'pop': ['LAddA','LAddB','LAddC','LAdvA','LAdvB','LAdvC']}, \n",
    "                    'probability': 0.2,  # max number of incoming conns to cell\t'\n",
    "                    'weight': w_ip,  # synaptic weight\n",
    "                    'delay': 5, # transmission delay (ms) '\n",
    "                    'sec': sec,\n",
    "                    'plasticity': plast}\n",
    "\n",
    "netParams.connParams['all->Interneuron'] = {'preConds': {'pop': ['LAddA','LAddB','LAddC','LAdvA','LAdvB','LAdvC']},\n",
    "                                            'postConds': {'pop': 'IN'}, \n",
    "                    'probability': 0.2,  # max number of incoming conns to cell\t'\n",
    "                    'weight':  w_pi,  # synaptic weight\n",
    "                    'delay': 5, # transmission delay (ms) '\n",
    "                    'sec': sec,\n",
    "                    'plasticity': plast}"
   ]
  },
  {
   "cell_type": "markdown",
   "metadata": {},
   "source": [
    "Connection between dorsal and ventral regions of the amygdala. It was created separately because there are less connections between regions than inside a region"
   ]
  },
  {
   "cell_type": "code",
   "execution_count": 11,
   "metadata": {},
   "outputs": [],
   "source": [
    "p_r = 0.1\n",
    "netParams.connParams['LAddA->all_v'] = {'preConds': {'pop': 'LAddA'}, 'postConds': {'pop': ['LAdvB','LAdvC']}, \n",
    "                    'probability': p_r,  # max number of incoming conns to cell\t'\n",
    "                    'weight': w_pp,  # synaptic weight\n",
    "                    'delay': 5, # transmission delay (ms) '\n",
    "                    'sec': sec,\n",
    "                    'plasticity': plast}\n",
    "\n",
    "netParams.connParams['LAddB->all_v'] = {'preConds': {'pop': 'LAddB'}, 'postConds': {'pop': ['LAdvA','LAdvC']}, \n",
    "                    'probability': p_r,  # max number of incoming conns to cell\t'\n",
    "                    'weight': w_pp,  # synaptic weight\n",
    "                    'delay': 5, # transmission delay (ms) '\n",
    "                    'sec': sec,\n",
    "                    'plasticity': plast}\n",
    "\n",
    "netParams.connParams['LAddC->all_v'] = {'preConds': {'pop': 'LAddC'}, 'postConds': {'pop': ['LAdvB','LAdvA']}, \n",
    "                    'probability': p_r,  # max number of incoming conns to cell\t'\n",
    "                    'weight': w_pp,  # synaptic weight\n",
    "                    'delay': 5, # transmission delay (ms) '\n",
    "                    'sec': sec,\n",
    "                    'plasticity': plast}\n",
    "\n",
    "\n",
    "netParams.connParams['LAdvA->all_d'] = {'preConds': {'pop': 'LAdvA'}, 'postConds': {'pop': ['LAddB','LAddC']}, \n",
    "                    'probability': p_r,  # max number of incoming conns to cell\t'\n",
    "                    'weight': w_pp,  # synaptic weight\n",
    "                    'delay': 5, # transmission delay (ms) '\n",
    "                    'sec': sec,\n",
    "                    'plasticity': plast}\n",
    "\n",
    "netParams.connParams['LAdvB->all_d'] = {'preConds': {'pop': 'LAdvB'}, 'postConds': {'pop': ['LAddA','LAddC']}, \n",
    "                    'probability': p_r,  # max number of incoming conns to cell\t'\n",
    "                    'weight': w_pp,  # synaptic weight\n",
    "                    'delay': 5, # transmission delay (ms) '\n",
    "                    'sec': sec,\n",
    "                    'plasticity': plast}\n",
    "\n",
    "netParams.connParams['LAdvC->all_d'] = {'preConds': {'pop': 'LAdvC'}, 'postConds': {'pop': ['LAddB','LAddA']}, \n",
    "                    'probability': p_r,  # max number of incoming conns to cell\t'\n",
    "                    'weight': w_pp,  # synaptic weight\n",
    "                    'delay': 5, # transmission delay (ms) '\n",
    "                    'sec': sec,\n",
    "                    'plasticity': plast}"
   ]
  },
  {
   "cell_type": "code",
   "execution_count": 12,
   "metadata": {},
   "outputs": [],
   "source": [
    "# Simulation options\n",
    "simConfig = specs.SimConfig() # object of class SimConfig to store simulation configuration\n",
    "simConfig.duration = tstop#1*1e3 # Duration of the simulation, in ms\n",
    "simConfig.dt = 0.025  # Internal integration timestep to use\n",
    "simConfig.verbose = 0\n",
    "simConfig.hParams = {'celsius':31}"
   ]
  },
  {
   "cell_type": "code",
   "execution_count": 13,
   "metadata": {},
   "outputs": [],
   "source": [
    "# Show detailed messages\n",
    "#simConfig.recordTraces = {'V_soma':{'sec':'soma','loc':0.5,'var':'v'}}\n",
    "# Dict with traces to record\n",
    "simConfig.recordStep = 0.01\n",
    "# Step size in ms to save data (eg. V traces, LFP, etc)\n",
    "simConfig.filename = 'model_output'\n",
    "# Set file output names\n",
    "simConfig.saveJson = True"
   ]
  },
  {
   "cell_type": "markdown",
   "metadata": {},
   "source": [
    "Plot the spikes and the raster plot"
   ]
  },
  {
   "cell_type": "code",
   "execution_count": 14,
   "metadata": {},
   "outputs": [],
   "source": [
    "# Save params, network and sim output to pickle file\n",
    "# simConfig.analysis['plotRaster'] = {'orderInverse': True, 'saveFig': 'tut_import_raster.png', \n",
    "#                                     'include': list(range(0, 80))}\n",
    "# simConfig.analysis['plotRaster'] = {'orderInverse': True, \n",
    "#                                     'include': list(range(81, 101))}\n",
    "\n",
    "simConfig.analysis['plotRaster'] = {'orderInverse': True,}\n",
    "# Plot a raster\n",
    "#simConfig.analysis['plotTraces'] = {'include': [0,10,13,15]}\n",
    "simConfig.analysis['plot2Dnet'] = True \n",
    "simConfig.analysis['plotConn'] = True"
   ]
  },
  {
   "cell_type": "code",
   "execution_count": null,
   "metadata": {
    "scrolled": false
   },
   "outputs": [
    {
     "name": "stdout",
     "output_type": "stream",
     "text": [
      "\n",
      "Creating network of 7 cell populations on 1 hosts...\n",
      "  Number of cells on node 0: 100 \n",
      "  Done; cell creation time = 0.35 s.\n",
      "Making connections...\n"
     ]
    }
   ],
   "source": [
    "# Plot recorded traces for this list of cells\n",
    "# Create network and run simulation\n",
    "sim.createSimulateAnalyze(netParams = netParams, simConfig = simConfig)"
   ]
  },
  {
   "cell_type": "code",
   "execution_count": null,
   "metadata": {},
   "outputs": [],
   "source": []
  },
  {
   "cell_type": "code",
   "execution_count": null,
   "metadata": {},
   "outputs": [],
   "source": []
  },
  {
   "cell_type": "code",
   "execution_count": null,
   "metadata": {},
   "outputs": [],
   "source": []
  },
  {
   "cell_type": "code",
   "execution_count": null,
   "metadata": {},
   "outputs": [],
   "source": []
  }
 ],
 "metadata": {
  "kernelspec": {
   "display_name": "Python 3",
   "language": "python",
   "name": "python3"
  },
  "language_info": {
   "codemirror_mode": {
    "name": "ipython",
    "version": 3
   },
   "file_extension": ".py",
   "mimetype": "text/x-python",
   "name": "python",
   "nbconvert_exporter": "python",
   "pygments_lexer": "ipython3",
   "version": "3.7.4"
  }
 },
 "nbformat": 4,
 "nbformat_minor": 2
}
